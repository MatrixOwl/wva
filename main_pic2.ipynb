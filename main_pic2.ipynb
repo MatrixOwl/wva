{
 "cells": [
  {
   "cell_type": "code",
   "execution_count": 1,
   "metadata": {},
   "outputs": [
    {
     "name": "stderr",
     "output_type": "stream",
     "text": [
      "C:\\Tools\\anaconda3\\lib\\site-packages\\dask\\config.py:168: YAMLLoadWarning: calling yaml.load() without Loader=... is deprecated, as the default Loader is unsafe. Please read https://msg.pyyaml.org/load for full details.\n",
      "  data = yaml.load(f.read()) or {}\n"
     ]
    }
   ],
   "source": [
    "import tensorflow as tf\n",
    "from copy import  deepcopy\n",
    "import numpy as np\n",
    "from tensorflow.examples.tutorials.mnist import input_data\n",
    "import random\n",
    "import datetime"
   ]
  },
  {
   "cell_type": "code",
   "execution_count": 2,
   "metadata": {},
   "outputs": [],
   "source": [
    "%matplotlib inline\n",
    "import matplotlib.pyplot as plt\n",
    "import matplotlib.image as mpimg\n",
    "from IPython import display"
   ]
  },
  {
   "cell_type": "code",
   "execution_count": 3,
   "metadata": {},
   "outputs": [],
   "source": [
    "from model_deep import Model"
   ]
  },
  {
   "cell_type": "code",
   "execution_count": 4,
   "metadata": {
    "code_folding": [
     0,
     5,
     7,
     13
    ]
   },
   "outputs": [],
   "source": [
    "def mnist_imshow(img):\n",
    "    plt.imshow(img.reshape([28, 28]), cmap='gray')\n",
    "    plt.axis('off')\n",
    "\n",
    "# return a new mnist dataset w/ pixels randomly permuted\n",
    "def permute_mnist(mnist):\n",
    "    perm_inds = list(range(mnist.train.images.shape[1]))\n",
    "#     print (range(mnist.train.images.shape[1]))\n",
    "    np.random.shuffle(perm_inds)\n",
    "    mnist2 = deepcopy(mnist)\n",
    "    sets = [\"train\", \"validation\", \"test\"]\n",
    "    for set_name in sets:\n",
    "        this_set = getattr(mnist2, set_name) # shallow copy\n",
    "#         print (np.array([this_set.images[:,i] for i in [1,2,3,4]]).shape)\n",
    "        #dafaq is with ._images, where did this shit come from, but okay moving on with lyf \n",
    "        this_set._images = np.transpose(np.array([this_set.images[:,c] for c in perm_inds]))\n",
    "    return mnist2"
   ]
  },
  {
   "cell_type": "code",
   "execution_count": 5,
   "metadata": {},
   "outputs": [],
   "source": [
    "def train_model(model, train_set, test_sets, num_iters):\n",
    "    test_accs = np.zeros(len(test_sets))\n",
    "    \n",
    "    for idx in range(num_iters):\n",
    "        \n",
    "        train_batch = train_set.train.next_batch(100)\n",
    "        feed_dict = {model.x: train_batch[0], model.labels: train_batch[1]}\n",
    "        model.train_step.run(feed_dict=feed_dict)\n",
    "        \n",
    "    for t, test_set in enumerate(test_sets):\n",
    "        feed_dict = {model.x: test_set.test.images, model.labels:test_set.test.labels}\n",
    "        accuracy = model.accuracy.eval(feed_dict=feed_dict)\n",
    "        test_accs[t] = accuracy\n",
    "    print(f'\\rTraining  {num_iters}/{num_iters} done.')\n",
    "    return test_accs"
   ]
  },
  {
   "cell_type": "code",
   "execution_count": 6,
   "metadata": {},
   "outputs": [],
   "source": [
    "def calc_accs(params_list, data_sets, iters_per_dataset, session):\n",
    "    print(f\"Calculation started at {datetime.datetime.now()}\")\n",
    "    ds_num = len(data_sets)\n",
    "    accs = []\n",
    "    for m_idx, params in enumerate(params_list):\n",
    "        model = Model(params[0])\n",
    "        session.run(tf.global_variables_initializer())\n",
    "        test_sets = []\n",
    "        accs.append([])\n",
    "        for data_set in data_sets:\n",
    "            test_sets.append(data_set)\n",
    "            model.open_lesson(params[1], params[2], params[3], params[4])\n",
    "            cur_accs = train_model(model, data_set, test_sets, iters_per_dataset)\n",
    "            img_set = data_set.validation.images\n",
    "            idxs = list(range(img_set.shape[0]))\n",
    "            random.shuffle(idxs)\n",
    "            test_set = img_set[idxs]\n",
    "            model.close_lesson(test_set, session)\n",
    "            accs[m_idx].append(cur_accs.mean()) \n",
    "        del model\n",
    "        print(f\"Finished model {m_idx+1} at {datetime.datetime.now()}\")\n",
    "    return accs"
   ]
  },
  {
   "cell_type": "code",
   "execution_count": 7,
   "metadata": {},
   "outputs": [
    {
     "name": "stdout",
     "output_type": "stream",
     "text": [
      "WARNING:tensorflow:From <ipython-input-7-350b510876ea>:1: read_data_sets (from tensorflow.contrib.learn.python.learn.datasets.mnist) is deprecated and will be removed in a future version.\n",
      "Instructions for updating:\n",
      "Please use alternatives such as official/mnist/dataset.py from tensorflow/models.\n",
      "WARNING:tensorflow:From C:\\Tools\\anaconda3\\lib\\site-packages\\tensorflow\\contrib\\learn\\python\\learn\\datasets\\mnist.py:260: maybe_download (from tensorflow.contrib.learn.python.learn.datasets.base) is deprecated and will be removed in a future version.\n",
      "Instructions for updating:\n",
      "Please write your own downloading logic.\n",
      "WARNING:tensorflow:From C:\\Tools\\anaconda3\\lib\\site-packages\\tensorflow\\contrib\\learn\\python\\learn\\datasets\\mnist.py:262: extract_images (from tensorflow.contrib.learn.python.learn.datasets.mnist) is deprecated and will be removed in a future version.\n",
      "Instructions for updating:\n",
      "Please use tf.data to implement this functionality.\n",
      "Extracting MNIST_data\\train-images-idx3-ubyte.gz\n",
      "WARNING:tensorflow:From C:\\Tools\\anaconda3\\lib\\site-packages\\tensorflow\\contrib\\learn\\python\\learn\\datasets\\mnist.py:267: extract_labels (from tensorflow.contrib.learn.python.learn.datasets.mnist) is deprecated and will be removed in a future version.\n",
      "Instructions for updating:\n",
      "Please use tf.data to implement this functionality.\n",
      "Extracting MNIST_data\\train-labels-idx1-ubyte.gz\n",
      "WARNING:tensorflow:From C:\\Tools\\anaconda3\\lib\\site-packages\\tensorflow\\contrib\\learn\\python\\learn\\datasets\\mnist.py:110: dense_to_one_hot (from tensorflow.contrib.learn.python.learn.datasets.mnist) is deprecated and will be removed in a future version.\n",
      "Instructions for updating:\n",
      "Please use tf.one_hot on tensors.\n",
      "Extracting MNIST_data\\t10k-images-idx3-ubyte.gz\n",
      "Extracting MNIST_data\\t10k-labels-idx1-ubyte.gz\n",
      "WARNING:tensorflow:From C:\\Tools\\anaconda3\\lib\\site-packages\\tensorflow\\contrib\\learn\\python\\learn\\datasets\\mnist.py:290: DataSet.__init__ (from tensorflow.contrib.learn.python.learn.datasets.mnist) is deprecated and will be removed in a future version.\n",
      "Instructions for updating:\n",
      "Please use alternatives such as official/mnist/dataset.py from tensorflow/models.\n"
     ]
    }
   ],
   "source": [
    "mnist = input_data.read_data_sets('MNIST_data', one_hot=True)\n",
    "sess = tf.InteractiveSession()"
   ]
  },
  {
   "cell_type": "code",
   "execution_count": 8,
   "metadata": {},
   "outputs": [],
   "source": [
    "mnist0 = mnist\n",
    "mnist1 = permute_mnist(mnist)\n",
    "mnist2 = permute_mnist(mnist)\n",
    "mnist3 = permute_mnist(mnist)\n",
    "mnist4 = permute_mnist(mnist)\n",
    "mnist5 = permute_mnist(mnist)\n",
    "mnist6 = permute_mnist(mnist)\n",
    "mnist7 = permute_mnist(mnist)\n",
    "mnist8 = permute_mnist(mnist)\n",
    "mnist9 = permute_mnist(mnist)"
   ]
  },
  {
   "cell_type": "code",
   "execution_count": null,
   "metadata": {},
   "outputs": [],
   "source": [
    "start = datetime.datetime.now()\n",
    "accs = []\n",
    "for i in range(10):\n",
    "    # network structure\n",
    "    net = [784, 300, 150, 10]\n",
    "\n",
    "    data_sets=[mnist0, mnist1, mnist2, mnist3, mnist4, mnist5, mnist6, mnist7, mnist8, mnist9]\n",
    "    params = [(net, Model.SGD, Model.SIGNAL, .1, 0.), \n",
    "              (net, Model.EWC, Model.SIGNAL, .1, 1.),\n",
    "              (net, Model.EWC, Model.FISHER, .1, 14.), \n",
    "              (net, Model.WVA, Model.SIGNAL, .1, 250.),\n",
    "              (net, Model.WVA, Model.FISHER, .1, 5250.)]\n",
    "\n",
    "    accs.append(calc_accs(params, data_sets, 2000, sess))\n",
    "    print(f\"Iteration {i}. Current number of anomalies: {np.sum(np.array(accs) < 0.5)}\")\n",
    "print ('Total time used', datetime.datetime.now() - start)"
   ]
  },
  {
   "cell_type": "code",
   "execution_count": 18,
   "metadata": {},
   "outputs": [],
   "source": [
    "accs_backup = accs"
   ]
  },
  {
   "cell_type": "code",
   "execution_count": null,
   "metadata": {},
   "outputs": [],
   "source": [
    "accs_arr = np.array(accs)\n",
    "print(np.sum(accs_arr < 0.5))"
   ]
  },
  {
   "cell_type": "code",
   "execution_count": 12,
   "metadata": {},
   "outputs": [],
   "source": [
    "np.save('pic2_data_3.npy', accs_arr)"
   ]
  },
  {
   "cell_type": "code",
   "execution_count": 45,
   "metadata": {},
   "outputs": [],
   "source": [
    "accs_arr = np.load('pic2_data_3.npy')"
   ]
  },
  {
   "cell_type": "code",
   "execution_count": 46,
   "metadata": {},
   "outputs": [],
   "source": [
    "accs = accs_arr.mean(axis=0)"
   ]
  },
  {
   "cell_type": "code",
   "execution_count": 47,
   "metadata": {},
   "outputs": [
    {
     "data": {
      "text/plain": [
       "array([[0.96849   , 0.95882   , 0.93479334, 0.91542   , 0.87699   ,\n",
       "        0.84281667, 0.81478143, 0.7862025 , 0.75863111, 0.743083  ],\n",
       "       [0.96887   , 0.96516   , 0.95941   , 0.9550725 , 0.94704   ,\n",
       "        0.94283833, 0.93607571, 0.92918375, 0.91915778, 0.910433  ],\n",
       "       [0.96913   , 0.96508999, 0.96018667, 0.9576425 , 0.95242401,\n",
       "        0.94807167, 0.94429429, 0.93745125, 0.93207   , 0.923399  ],\n",
       "       [0.96869001, 0.964295  , 0.95715   , 0.95118   , 0.943536  ,\n",
       "        0.93605833, 0.92662   , 0.917505  , 0.90756555, 0.889708  ],\n",
       "       [0.96952   , 0.96585   , 0.95972334, 0.956     , 0.9502    ,\n",
       "        0.94389667, 0.93667572, 0.92907375, 0.92186   , 0.904894  ]])"
      ]
     },
     "execution_count": 47,
     "metadata": {},
     "output_type": "execute_result"
    }
   ],
   "source": [
    "idxs = range(1, 11)\n",
    "accs"
   ]
  },
  {
   "cell_type": "code",
   "execution_count": 48,
   "metadata": {
    "scrolled": true
   },
   "outputs": [
    {
     "data": {
      "image/png": "[encoded data removed]",
      "text/plain": [
       "<Figure size 504x252 with 1 Axes>"
      ]
     },
     "metadata": {
      "needs_background": "light"
     },
     "output_type": "display_data"
    }
   ],
   "source": [
    "plt.figure(figsize = (7, 3.5))\n",
    "plt.ylim(0.70, 1.)\n",
    "plt.ylabel('Total accuracy')\n",
    "plt.xlabel('Number of tasks')\n",
    "plt.xlim(1, 10)\n",
    "plt.plot(idxs, accs[0], label='SGD', marker=\".\")\n",
    "plt.plot(idxs, accs[1], label='EWC-S', marker=\".\")\n",
    "plt.plot(idxs, accs[2], label='EWC-F', marker=\".\")\n",
    "plt.plot(idxs, accs[3], label='WVA-S', marker=\".\")\n",
    "plt.plot(idxs, accs[4], label='WVA-F', marker=\".\")\n",
    "plt.legend()\n",
    "plt.show()"
   ]
  },
  {
   "cell_type": "code",
   "execution_count": 37,
   "metadata": {},
   "outputs": [
    {
     "data": {
      "text/plain": [
       "'1.14.0'"
      ]
     },
     "execution_count": 37,
     "metadata": {},
     "output_type": "execute_result"
    }
   ],
   "source": [
    "tf.__version__"
   ]
  },
  {
   "cell_type": "code",
   "execution_count": null,
   "metadata": {},
   "outputs": [],
   "source": []
  }
 ],
 "metadata": {
  "kernelspec": {
   "display_name": "Python 3",
   "language": "python",
   "name": "python3"
  },
  "language_info": {
   "codemirror_mode": {
    "name": "ipython",
    "version": 3
   },
   "file_extension": ".py",
   "mimetype": "text/x-python",
   "name": "python",
   "nbconvert_exporter": "python",
   "pygments_lexer": "ipython3",
   "version": "3.7.3"
  }
 },
 "nbformat": 4,
 "nbformat_minor": 1
}
