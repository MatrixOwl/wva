{
 "cells": [
  {
   "cell_type": "code",
   "execution_count": 1,
   "metadata": {},
   "outputs": [],
   "source": [
    "import tensorflow as tf\n",
    "from copy import  deepcopy\n",
    "import numpy as np\n",
    "from tensorflow.examples.tutorials.mnist import input_data\n",
    "import random\n",
    "import datetime"
   ]
  },
  {
   "cell_type": "code",
   "execution_count": 2,
   "metadata": {},
   "outputs": [],
   "source": [
    "%matplotlib inline\n",
    "import matplotlib.pyplot as plt\n",
    "import matplotlib.image as mpimg\n",
    "from IPython import display"
   ]
  },
  {
   "cell_type": "code",
   "execution_count": 3,
   "metadata": {},
   "outputs": [],
   "source": [
    "from model_deep import Model"
   ]
  },
  {
   "cell_type": "code",
   "execution_count": 4,
   "metadata": {
    "code_folding": [
     0,
     5,
     7,
     13
    ]
   },
   "outputs": [],
   "source": [
    "def mnist_imshow(img):\n",
    "    plt.imshow(img.reshape([28, 28]), cmap='gray')\n",
    "    plt.axis('off')\n",
    "\n",
    "# return a new mnist dataset w/ pixels randomly permuted\n",
    "def permute_mnist(mnist):\n",
    "    perm_inds = list(range(mnist.train.images.shape[1]))\n",
    "#     print (range(mnist.train.images.shape[1]))\n",
    "    np.random.shuffle(perm_inds)\n",
    "    mnist2 = deepcopy(mnist)\n",
    "    sets = [\"train\", \"validation\", \"test\"]\n",
    "    for set_name in sets:\n",
    "        this_set = getattr(mnist2, set_name) # shallow copy\n",
    "#         print (np.array([this_set.images[:,i] for i in [1,2,3,4]]).shape)\n",
    "        #dafaq is with ._images, where did this shit come from, but okay moving on with lyf \n",
    "        this_set._images = np.transpose(np.array([this_set.images[:,c] for c in perm_inds]))\n",
    "    return mnist2"
   ]
  },
  {
   "cell_type": "code",
   "execution_count": 5,
   "metadata": {},
   "outputs": [],
   "source": [
    "# return a new mnist dataset filtered by selected digits\n",
    "def filter_mnist(mnist, digits=[]):\n",
    "    mnist2 = deepcopy(mnist)\n",
    "    sets = [\"train\", \"validation\", \"test\"]\n",
    "    for set_name in sets:\n",
    "        this_set = getattr(mnist2, set_name) # shallow copy\n",
    "        this_set._images = np.array([this_set.images[i] for i in range(this_set.images.shape[0]) \n",
    "                                     if np.argmax(this_set.labels[i]) in digits])\n",
    "        this_set._labels = np.array([this_set.labels[i] for i in range(this_set.labels.shape[0]) \n",
    "                                     if np.argmax(this_set.labels[i]) in digits])\n",
    "        this_set._num_examples = this_set.labels.shape[0]\n",
    "    return mnist2"
   ]
  },
  {
   "cell_type": "code",
   "execution_count": 6,
   "metadata": {},
   "outputs": [],
   "source": [
    "def train_model(model, train_set, test_sets, num_iters, test_freq):\n",
    "    test_accs = np.zeros((len(test_sets), num_iters // test_freq))\n",
    "    \n",
    "    for idx in range(num_iters):\n",
    "        if idx % test_freq == 0:\n",
    "            for t, test_set in enumerate(test_sets):\n",
    "                feed_dict = {model.x: test_set.test.images, model.labels:test_set.test.labels}\n",
    "                accuracy = model.accuracy.eval(feed_dict=feed_dict)\n",
    "                test_accs[t, idx // test_freq] = accuracy\n",
    "\n",
    "        train_batch = train_set.train.next_batch(10)\n",
    "        feed_dict = {model.x: train_batch[0], model.labels: train_batch[1]}\n",
    "        model.train_step.run(feed_dict=feed_dict)\n",
    "        \n",
    "        if idx % test_freq == 0:\n",
    "            print(f'\\rIteration {idx+1}/{num_iters}', end='')\n",
    "\n",
    "    print(f'\\rTraining  {num_iters}/{num_iters} done.')\n",
    "    return test_accs"
   ]
  },
  {
   "cell_type": "code",
   "execution_count": 7,
   "metadata": {},
   "outputs": [],
   "source": [
    "def calc_accs(param_list, data_sets, iters_per_dataset, test_freq, session):\n",
    "    print(f\"Calculation started at {datetime.datetime.now()}\")\n",
    "    k = iters_per_dataset // test_freq\n",
    "    ds_num = len(data_sets)\n",
    "    accs = np.zeros((len(param_list), len(data_sets), len(data_sets) * k))\n",
    "    for m_idx, params in enumerate(param_list):\n",
    "        model = Model(params[0])\n",
    "        session.run(tf.global_variables_initializer())\n",
    "        test_sets = []\n",
    "        for d_idx, data_set in enumerate(data_sets):\n",
    "            test_sets.append(data_set)\n",
    "            model.open_lesson(params[1], params[2], params[3], params[4])\n",
    "            cur_accs = train_model(model, data_set, test_sets, iters_per_dataset, test_freq)\n",
    "            idxs = list(range(data_set.validation.images.shape[0]))\n",
    "            random.shuffle(idxs)\n",
    "            test_set = data_set.validation.images[idxs]\n",
    "            model.close_lesson(test_set, session)\n",
    "            for t_idx in range(ds_num):\n",
    "                if t_idx < len(test_sets):\n",
    "                    acc_arr = cur_accs[t_idx]\n",
    "                else:\n",
    "                    acc_arr = [None]*k\n",
    "                for idx in range(k):\n",
    "                    accs[m_idx][t_idx][k*d_idx+idx] = acc_arr[idx]\n",
    "            accs[m_idx][t_idx][0] = 0.0\n",
    "        del model\n",
    "    return accs"
   ]
  },
  {
   "cell_type": "code",
   "execution_count": 8,
   "metadata": {},
   "outputs": [
    {
     "name": "stdout",
     "output_type": "stream",
     "text": [
      "WARNING:tensorflow:From <ipython-input-8-350b510876ea>:1: read_data_sets (from tensorflow.contrib.learn.python.learn.datasets.mnist) is deprecated and will be removed in a future version.\n",
      "Instructions for updating:\n",
      "Please use alternatives such as official/mnist/dataset.py from tensorflow/models.\n",
      "WARNING:tensorflow:From C:\\Tools\\anaconda3\\envs\\keras-gpu\\lib\\site-packages\\tensorflow\\contrib\\learn\\python\\learn\\datasets\\mnist.py:260: maybe_download (from tensorflow.contrib.learn.python.learn.datasets.base) is deprecated and will be removed in a future version.\n",
      "Instructions for updating:\n",
      "Please write your own downloading logic.\n",
      "WARNING:tensorflow:From C:\\Tools\\anaconda3\\envs\\keras-gpu\\lib\\site-packages\\tensorflow\\contrib\\learn\\python\\learn\\datasets\\mnist.py:262: extract_images (from tensorflow.contrib.learn.python.learn.datasets.mnist) is deprecated and will be removed in a future version.\n",
      "Instructions for updating:\n",
      "Please use tf.data to implement this functionality.\n",
      "Extracting MNIST_data\\train-images-idx3-ubyte.gz\n",
      "WARNING:tensorflow:From C:\\Tools\\anaconda3\\envs\\keras-gpu\\lib\\site-packages\\tensorflow\\contrib\\learn\\python\\learn\\datasets\\mnist.py:267: extract_labels (from tensorflow.contrib.learn.python.learn.datasets.mnist) is deprecated and will be removed in a future version.\n",
      "Instructions for updating:\n",
      "Please use tf.data to implement this functionality.\n",
      "Extracting MNIST_data\\train-labels-idx1-ubyte.gz\n",
      "WARNING:tensorflow:From C:\\Tools\\anaconda3\\envs\\keras-gpu\\lib\\site-packages\\tensorflow\\contrib\\learn\\python\\learn\\datasets\\mnist.py:110: dense_to_one_hot (from tensorflow.contrib.learn.python.learn.datasets.mnist) is deprecated and will be removed in a future version.\n",
      "Instructions for updating:\n",
      "Please use tf.one_hot on tensors.\n",
      "Extracting MNIST_data\\t10k-images-idx3-ubyte.gz\n",
      "Extracting MNIST_data\\t10k-labels-idx1-ubyte.gz\n",
      "WARNING:tensorflow:From C:\\Tools\\anaconda3\\envs\\keras-gpu\\lib\\site-packages\\tensorflow\\contrib\\learn\\python\\learn\\datasets\\mnist.py:290: DataSet.__init__ (from tensorflow.contrib.learn.python.learn.datasets.mnist) is deprecated and will be removed in a future version.\n",
      "Instructions for updating:\n",
      "Please use alternatives such as official/mnist/dataset.py from tensorflow/models.\n"
     ]
    }
   ],
   "source": [
    "mnist = input_data.read_data_sets('MNIST_data', one_hot=True)\n",
    "sess = tf.InteractiveSession()"
   ]
  },
  {
   "cell_type": "code",
   "execution_count": 9,
   "metadata": {},
   "outputs": [],
   "source": [
    "mnist1 = filter_mnist(mnist, [0,1,2,3,4])\n",
    "mnist2 = filter_mnist(mnist, [5,6,7,8,9])\n",
    "data_sets=[mnist1, mnist2]"
   ]
  },
  {
   "cell_type": "code",
   "execution_count": 10,
   "metadata": {},
   "outputs": [],
   "source": [
    "# test structure\n",
    "net = [784, 350, 150, 10]\n",
    "params = [(net, Model.SGD, Model.SIGNAL, .3, 0.), \n",
    "          (net, Model.EWC, Model.SIGNAL, .3, 1.),\n",
    "          (net, Model.EWC, Model.FISHER, .3, 15.),\n",
    "          (net, Model.WVA, Model.SIGNAL, .3, 3000.),\n",
    "          (net, Model.WVA, Model.FISHER, .3, 45000.)]"
   ]
  },
  {
   "cell_type": "code",
   "execution_count": 11,
   "metadata": {},
   "outputs": [],
   "source": [
    "iters_per_task = 2800\n",
    "test_freq = 1\n",
    "idxs = np.array(range(1, iters_per_task*len(data_sets)+1, test_freq))"
   ]
  },
  {
   "cell_type": "code",
   "execution_count": 12,
   "metadata": {},
   "outputs": [
    {
     "name": "stdout",
     "output_type": "stream",
     "text": [
      "Calculation started at 2020-03-30 13:53:13.589233\n",
      "WARNING:tensorflow:From C:\\Tools\\anaconda3\\envs\\keras-gpu\\lib\\site-packages\\tensorflow\\python\\framework\\op_def_library.py:263: colocate_with (from tensorflow.python.framework.ops) is deprecated and will be removed in a future version.\n",
      "Instructions for updating:\n",
      "Colocations handled automatically by placer.\n",
      "WARNING:tensorflow:From C:\\Users\\Alex\\Projects\\ewc\\model_deep.py:113: multinomial (from tensorflow.python.ops.random_ops) is deprecated and will be removed in a future version.\n",
      "Instructions for updating:\n",
      "Use tf.random.categorical instead.\n",
      "WARNING:tensorflow:From C:\\Users\\Alex\\Projects\\ewc\\model_deep.py:113: to_int32 (from tensorflow.python.ops.math_ops) is deprecated and will be removed in a future version.\n",
      "Instructions for updating:\n",
      "Use tf.cast instead.\n",
      "Training  2800/2800 done.\n",
      "Training  2800/2800 done.\n",
      "Training  2800/2800 done.\n",
      "Training  2800/2800 done.\n",
      "Training  2800/2800 done.\n",
      "Training  2800/2800 done.\n",
      "Training  2800/2800 done.\n",
      "Training  2800/2800 done.\n",
      "Training  2800/2800 done.\n",
      "Training  2800/2800 done.\n",
      "Step 0 done.\n",
      "Calculation started at 2020-03-30 13:58:44.433548\n",
      "Training  2800/2800 done.\n",
      "Training  2800/2800 done.\n",
      "Training  2800/2800 done.\n",
      "Training  2800/2800 done.\n",
      "Training  2800/2800 done.\n",
      "Training  2800/2800 done.\n",
      "Training  2800/2800 done.\n",
      "Training  2800/2800 done.\n",
      "Training  2800/2800 done.\n",
      "Training  2800/2800 done.\n",
      "Step 1 done.\n",
      "Calculation started at 2020-03-30 14:04:13.428518\n",
      "Training  2800/2800 done.\n",
      "Training  2800/2800 done.\n",
      "Training  2800/2800 done.\n",
      "Training  2800/2800 done.\n",
      "Training  2800/2800 done.\n",
      "Training  2800/2800 done.\n",
      "Training  2800/2800 done.\n",
      "Training  2800/2800 done.\n",
      "Training  2800/2800 done.\n",
      "Training  2800/2800 done.\n",
      "Step 2 done.\n",
      "Calculation started at 2020-03-30 14:09:45.994779\n",
      "Training  2800/2800 done.\n",
      "Training  2800/2800 done.\n",
      "Training  2800/2800 done.\n",
      "Training  2800/2800 done.\n",
      "Training  2800/2800 done.\n",
      "Training  2800/2800 done.\n",
      "Training  2800/2800 done.\n",
      "Training  2800/2800 done.\n",
      "Training  2800/2800 done.\n",
      "Training  2800/2800 done.\n",
      "Step 3 done.\n",
      "Calculation started at 2020-03-30 14:15:17.698073\n",
      "Training  2800/2800 done.\n",
      "Training  2800/2800 done.\n",
      "Training  2800/2800 done.\n",
      "Training  2800/2800 done.\n",
      "Training  2800/2800 done.\n",
      "Training  2800/2800 done.\n",
      "Training  2800/2800 done.\n",
      "Training  2800/2800 done.\n",
      "Training  2800/2800 done.\n",
      "Training  2800/2800 done.\n",
      "Step 4 done.\n",
      "Calculation started at 2020-03-30 14:20:41.370862\n",
      "Training  2800/2800 done.\n",
      "Training  2800/2800 done.\n",
      "Training  2800/2800 done.\n",
      "Training  2800/2800 done.\n",
      "Training  2800/2800 done.\n",
      "Training  2800/2800 done.\n",
      "Training  2800/2800 done.\n",
      "Training  2800/2800 done.\n",
      "Training  2800/2800 done.\n",
      "Training  2800/2800 done.\n",
      "Step 5 done.\n",
      "Calculation started at 2020-03-30 14:26:14.940586\n",
      "Training  2800/2800 done.\n",
      "Training  2800/2800 done.\n",
      "Training  2800/2800 done.\n",
      "Training  2800/2800 done.\n",
      "Training  2800/2800 done.\n",
      "Training  2800/2800 done.\n",
      "Training  2800/2800 done.\n",
      "Training  2800/2800 done.\n",
      "Training  2800/2800 done.\n",
      "Training  2800/2800 done.\n",
      "Step 6 done.\n",
      "Calculation started at 2020-03-30 14:30:38.177562\n",
      "Training  2800/2800 done.\n",
      "Training  2800/2800 done.\n",
      "Training  2800/2800 done.\n",
      "Training  2800/2800 done.\n",
      "Training  2800/2800 done.\n",
      "Training  2800/2800 done.\n",
      "Training  2800/2800 done.\n",
      "Training  2800/2800 done.\n",
      "Training  2800/2800 done.\n",
      "Training  2800/2800 done.\n",
      "Step 7 done.\n",
      "Calculation started at 2020-03-30 14:34:37.898724\n",
      "Training  2800/2800 done.\n",
      "Training  2800/2800 done.\n",
      "Training  2800/2800 done.\n",
      "Training  2800/2800 done.\n",
      "Training  2800/2800 done.\n",
      "Training  2800/2800 done.\n",
      "Training  2800/2800 done.\n",
      "Training  2800/2800 done.\n",
      "Training  2800/2800 done.\n",
      "Training  2800/2800 done.\n",
      "Step 8 done.\n",
      "Calculation started at 2020-03-30 14:38:40.876360\n",
      "Training  2800/2800 done.\n",
      "Training  2800/2800 done.\n",
      "Training  2800/2800 done.\n",
      "Training  2800/2800 done.\n",
      "Training  2800/2800 done.\n",
      "Training  2800/2800 done.\n",
      "Training  2800/2800 done.\n",
      "Training  2800/2800 done.\n",
      "Training  2800/2800 done.\n",
      "Training  2800/2800 done.\n",
      "Step 9 done.\n"
     ]
    }
   ],
   "source": [
    "accs = []\n",
    "for i in range(10):\n",
    "    accs.append(calc_accs(params, data_sets, iters_per_task, test_freq, sess))\n",
    "    print(f\"Step {i} done.\")"
   ]
  },
  {
   "cell_type": "code",
   "execution_count": 13,
   "metadata": {},
   "outputs": [],
   "source": [
    "accs_arr = np.array(accs)"
   ]
  },
  {
   "cell_type": "code",
   "execution_count": 14,
   "metadata": {},
   "outputs": [],
   "source": [
    "np.save('pic3_data.npy', accs_arr)"
   ]
  },
  {
   "cell_type": "code",
   "execution_count": 13,
   "metadata": {},
   "outputs": [],
   "source": [
    "accs_arr = np.load('pic3_data.npy')"
   ]
  },
  {
   "cell_type": "code",
   "execution_count": 15,
   "metadata": {},
   "outputs": [],
   "source": [
    "accs = accs_arr.mean(axis=0)"
   ]
  },
  {
   "cell_type": "code",
   "execution_count": null,
   "metadata": {},
   "outputs": [],
   "source": [
    "plt.figure(figsize = (6, 3.6))\n",
    "plt.title('Training task B')\n",
    "plt.xlabel('a) using SGD optimizer')\n",
    "plt.ylabel('Accuracy')\n",
    "plt.ylim(-0.05, 1.05)\n",
    "plt.plot(idxs[2790:2990], accs[0,0][2790:2990], label='Task A')\n",
    "plt.plot(idxs[2790:2990], accs[0,1][2790:2990], label='Task B')\n",
    "plt.legend()\n",
    "plt.show()"
   ]
  },
  {
   "cell_type": "code",
   "execution_count": null,
   "metadata": {},
   "outputs": [],
   "source": [
    "plt.figure(figsize = (6, 3.6))\n",
    "plt.title('Training task B')\n",
    "plt.xlabel('Training time')\n",
    "#plt.xlabel('b) using EWC-F optimizer')\n",
    "plt.ylabel('Accuracy')\n",
    "plt.ylim(-0.05, 1.05)\n",
    "plt.plot(idxs[2790:2990], accs[1,0][2790:2990], label='Task A')\n",
    "plt.plot(idxs[2790:2990], accs[1,1][2790:2990], label='Task B')\n",
    "plt.legend()\n",
    "plt.show()"
   ]
  },
  {
   "cell_type": "code",
   "execution_count": null,
   "metadata": {},
   "outputs": [],
   "source": [
    "plt.figure(figsize = (6, 3.6))\n",
    "plt.title('Training task B')\n",
    "plt.xlabel('Training time')\n",
    "#plt.xlabel('b) using EWC-F optimizer')\n",
    "plt.ylabel('Accuracy')\n",
    "plt.ylim(-0.05, 1.05)\n",
    "plt.plot(idxs[2790:2990], accs[2,0][2790:2990], label='Task A')\n",
    "plt.plot(idxs[2790:2990], accs[2,1][2790:2990], label='Task B')\n",
    "plt.legend()\n",
    "plt.show()"
   ]
  },
  {
   "cell_type": "code",
   "execution_count": null,
   "metadata": {},
   "outputs": [],
   "source": [
    "plt.figure(figsize = (6, 3.6))\n",
    "plt.title('Training task B')\n",
    "plt.xlabel('Training time')\n",
    "#plt.xlabel('b) using EWC-F optimizer')\n",
    "plt.ylabel('Accuracy')\n",
    "plt.ylim(-0.05, 1.05)\n",
    "plt.plot(idxs[2790:2990], accs[3,0][2790:2990], label='Task A')\n",
    "plt.plot(idxs[2790:2990], accs[3,1][2790:2990], label='Task B')\n",
    "plt.legend()\n",
    "plt.show()"
   ]
  },
  {
   "cell_type": "code",
   "execution_count": null,
   "metadata": {},
   "outputs": [],
   "source": [
    "plt.figure(figsize = (6, 3.6))\n",
    "plt.title('Training task B')\n",
    "plt.xlabel('Training time')\n",
    "#plt.xlabel('b) using EWC-F optimizer')\n",
    "plt.ylabel('Accuracy')\n",
    "plt.ylim(-0.05, 1.05)\n",
    "plt.plot(idxs[2790:2990], accs[4,0][2790:2990], label='Task A')\n",
    "plt.plot(idxs[2790:2990], accs[4,1][2790:2990], label='Task B')\n",
    "plt.legend()\n",
    "plt.show()"
   ]
  },
  {
   "cell_type": "code",
   "execution_count": 37,
   "metadata": {},
   "outputs": [
    {
     "data": {
      "image/png": "[encoded data removed]",
      "text/plain": [
       "<Figure size 648x252 with 1 Axes>"
      ]
     },
     "metadata": {
      "needs_background": "light"
     },
     "output_type": "display_data"
    }
   ],
   "source": [
    "plt.figure(figsize = (9, 3.5))\n",
    "plt.title('Training task B')\n",
    "plt.xlabel('Training time')\n",
    "plt.ylabel('Task A accuracy')\n",
    "plt.ylim(-0.05, 1.05)\n",
    "plt.plot(idxs[2800:], accs[0,0][2800:], label='SGD')\n",
    "plt.plot(idxs[2800:], accs[1,0][2800:], label='EWC-S')\n",
    "plt.plot(idxs[2800:], accs[2,0][2800:], label='EWC-F')\n",
    "plt.plot(idxs[2800:], accs[3,0][2800:], label='WVA-S')\n",
    "plt.plot(idxs[2800:], accs[4,0][2800:], label='WVA-F')\n",
    "plt.legend()\n",
    "plt.show()"
   ]
  },
  {
   "cell_type": "code",
   "execution_count": 35,
   "metadata": {},
   "outputs": [
    {
     "data": {
      "image/png": "[encoded data removed]",
      "text/plain": [
       "<Figure size 648x252 with 1 Axes>"
      ]
     },
     "metadata": {
      "needs_background": "light"
     },
     "output_type": "display_data"
    }
   ],
   "source": [
    "plt.figure(figsize = (9, 3.5))\n",
    "plt.title('Training task B')\n",
    "plt.xlabel('Training time')\n",
    "plt.ylabel('Task B accuracy')\n",
    "plt.ylim(-0.05, 1.05)\n",
    "plt.plot(idxs[2800:4100], accs[0,1][2800:4100], label='SGD')\n",
    "plt.plot(idxs[2800:4100], accs[1,1][2800:4100], label='EWC-S')\n",
    "plt.plot(idxs[2800:4100], accs[2,1][2800:4100], label='EWC-F')\n",
    "plt.plot(idxs[2800:4100], accs[3,1][2800:4100], label='WVA-S')\n",
    "plt.plot(idxs[2800:4100], accs[4,1][2800:4100], label='WVA-F')\n",
    "plt.legend()\n",
    "plt.show()"
   ]
  },
  {
   "cell_type": "code",
   "execution_count": null,
   "metadata": {},
   "outputs": [],
   "source": []
  }
 ],
 "metadata": {
  "kernelspec": {
   "display_name": "Python 3",
   "language": "python",
   "name": "python3"
  },
  "language_info": {
   "codemirror_mode": {
    "name": "ipython",
    "version": 3
   },
   "file_extension": ".py",
   "mimetype": "text/x-python",
   "name": "python",
   "nbconvert_exporter": "python",
   "pygments_lexer": "ipython3",
   "version": "3.7.4"
  }
 },
 "nbformat": 4,
 "nbformat_minor": 1
}
